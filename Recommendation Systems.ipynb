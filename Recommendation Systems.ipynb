{
 "cells": [
  {
   "cell_type": "code",
   "execution_count": 1,
   "id": "cd114a21",
   "metadata": {},
   "outputs": [],
   "source": [
    "import numpy as np\n",
    "import pandas as pd\n",
    "import matplotlib.pyplot as plt\n",
    "import seaborn as sns\n",
    "\n",
    "%matplotlib inline\n",
    "\n",
    "import pandas\n",
    "from sklearn.model_selection import train_test_split\n",
    "import numpy as np\n",
    "import time\n",
    "# from sklearn.externals import joblib\n",
    "\n",
    "from IPython.core.interactiveshell import InteractiveShell\n",
    "InteractiveShell.ast_node_interactivity = \"all\""
   ]
  },
  {
   "cell_type": "markdown",
   "id": "25d75693",
   "metadata": {},
   "source": [
    "### Import the necessary libraries and read the provided CSVs as a data frame and perform the below steps."
   ]
  },
  {
   "cell_type": "markdown",
   "id": "4f587041",
   "metadata": {},
   "source": [
    "1. Merge the provided CSVs into one data-frame"
   ]
  },
  {
   "cell_type": "code",
   "execution_count": 2,
   "id": "8d6f3128",
   "metadata": {},
   "outputs": [],
   "source": [
    "# Importing all the given datasets\n",
    "data1 = pd.read_csv(\"phone_user_review_file_1.csv\")\n",
    "data2 = pd.read_csv(\"phone_user_review_file_2.csv\")\n",
    "data3 = pd.read_csv(\"phone_user_review_file_3.csv\")\n",
    "data4 = pd.read_csv(\"phone_user_review_file_4.csv\")\n",
    "data5 = pd.read_csv(\"phone_user_review_file_5.csv\")\n",
    "data6 = pd.read_csv(\"phone_user_review_file_6.csv\")"
   ]
  },
  {
   "cell_type": "code",
   "execution_count": 3,
   "id": "e0d24d04",
   "metadata": {},
   "outputs": [],
   "source": [
    "# Since all columns and datatypes are same, appending the dataframes to one\n",
    "df = data1.append([data2, data3, data4, data5, data6])"
   ]
  },
  {
   "cell_type": "markdown",
   "id": "ab1be1b4",
   "metadata": {},
   "source": [
    "2. Check a few observations and shape of the data-frame"
   ]
  },
  {
   "cell_type": "code",
   "execution_count": 4,
   "id": "5a3558b0",
   "metadata": {},
   "outputs": [
    {
     "name": "stdout",
     "output_type": "stream",
     "text": [
      "<class 'pandas.core.frame.DataFrame'>\n",
      "Int64Index: 1415133 entries, 0 to 163836\n",
      "Data columns (total 11 columns):\n",
      " #   Column     Non-Null Count    Dtype  \n",
      "---  ------     --------------    -----  \n",
      " 0   phone_url  1415133 non-null  object \n",
      " 1   date       1415133 non-null  object \n",
      " 2   lang       1415133 non-null  object \n",
      " 3   country    1415133 non-null  object \n",
      " 4   source     1415133 non-null  object \n",
      " 5   domain     1415133 non-null  object \n",
      " 6   score      1351644 non-null  float64\n",
      " 7   score_max  1351644 non-null  float64\n",
      " 8   extract    1395772 non-null  object \n",
      " 9   author     1351931 non-null  object \n",
      " 10  product    1415132 non-null  object \n",
      "dtypes: float64(2), object(9)\n",
      "memory usage: 129.6+ MB\n"
     ]
    }
   ],
   "source": [
    "# Check for data info\n",
    "df.info()"
   ]
  },
  {
   "cell_type": "code",
   "execution_count": 5,
   "id": "8462b132",
   "metadata": {},
   "outputs": [
    {
     "data": {
      "text/html": [
       "<div>\n",
       "<style scoped>\n",
       "    .dataframe tbody tr th:only-of-type {\n",
       "        vertical-align: middle;\n",
       "    }\n",
       "\n",
       "    .dataframe tbody tr th {\n",
       "        vertical-align: top;\n",
       "    }\n",
       "\n",
       "    .dataframe thead th {\n",
       "        text-align: right;\n",
       "    }\n",
       "</style>\n",
       "<table border=\"1\" class=\"dataframe\">\n",
       "  <thead>\n",
       "    <tr style=\"text-align: right;\">\n",
       "      <th></th>\n",
       "      <th>phone_url</th>\n",
       "      <th>date</th>\n",
       "      <th>lang</th>\n",
       "      <th>country</th>\n",
       "      <th>source</th>\n",
       "      <th>domain</th>\n",
       "      <th>score</th>\n",
       "      <th>score_max</th>\n",
       "      <th>extract</th>\n",
       "      <th>author</th>\n",
       "      <th>product</th>\n",
       "    </tr>\n",
       "  </thead>\n",
       "  <tbody>\n",
       "    <tr>\n",
       "      <th>0</th>\n",
       "      <td>/cellphones/samsung-galaxy-s8/</td>\n",
       "      <td>5/2/2017</td>\n",
       "      <td>en</td>\n",
       "      <td>us</td>\n",
       "      <td>Verizon Wireless</td>\n",
       "      <td>verizonwireless.com</td>\n",
       "      <td>10.0</td>\n",
       "      <td>10.0</td>\n",
       "      <td>As a diehard Samsung fan who has had every Sam...</td>\n",
       "      <td>CarolAnn35</td>\n",
       "      <td>Samsung Galaxy S8</td>\n",
       "    </tr>\n",
       "    <tr>\n",
       "      <th>1</th>\n",
       "      <td>/cellphones/samsung-galaxy-s8/</td>\n",
       "      <td>4/28/2017</td>\n",
       "      <td>en</td>\n",
       "      <td>us</td>\n",
       "      <td>Phone Arena</td>\n",
       "      <td>phonearena.com</td>\n",
       "      <td>10.0</td>\n",
       "      <td>10.0</td>\n",
       "      <td>Love the phone. the phone is sleek and smooth ...</td>\n",
       "      <td>james0923</td>\n",
       "      <td>Samsung Galaxy S8</td>\n",
       "    </tr>\n",
       "    <tr>\n",
       "      <th>2</th>\n",
       "      <td>/cellphones/samsung-galaxy-s8/</td>\n",
       "      <td>5/4/2017</td>\n",
       "      <td>en</td>\n",
       "      <td>us</td>\n",
       "      <td>Amazon</td>\n",
       "      <td>amazon.com</td>\n",
       "      <td>6.0</td>\n",
       "      <td>10.0</td>\n",
       "      <td>Adequate feel. Nice heft. Processor's still sl...</td>\n",
       "      <td>R. Craig</td>\n",
       "      <td>Samsung Galaxy S8 (64GB) G950U 5.8\" 4G LTE Unl...</td>\n",
       "    </tr>\n",
       "    <tr>\n",
       "      <th>3</th>\n",
       "      <td>/cellphones/samsung-galaxy-s8/</td>\n",
       "      <td>5/2/2017</td>\n",
       "      <td>en</td>\n",
       "      <td>us</td>\n",
       "      <td>Samsung</td>\n",
       "      <td>samsung.com</td>\n",
       "      <td>9.2</td>\n",
       "      <td>10.0</td>\n",
       "      <td>Never disappointed. One of the reasons I've be...</td>\n",
       "      <td>Buster2020</td>\n",
       "      <td>Samsung Galaxy S8 64GB (AT&amp;T)</td>\n",
       "    </tr>\n",
       "    <tr>\n",
       "      <th>4</th>\n",
       "      <td>/cellphones/samsung-galaxy-s8/</td>\n",
       "      <td>5/11/2017</td>\n",
       "      <td>en</td>\n",
       "      <td>us</td>\n",
       "      <td>Verizon Wireless</td>\n",
       "      <td>verizonwireless.com</td>\n",
       "      <td>4.0</td>\n",
       "      <td>10.0</td>\n",
       "      <td>I've now found that i'm in a group of people t...</td>\n",
       "      <td>S Ate Mine</td>\n",
       "      <td>Samsung Galaxy S8</td>\n",
       "    </tr>\n",
       "  </tbody>\n",
       "</table>\n",
       "</div>"
      ],
      "text/plain": [
       "                        phone_url       date lang country            source  \\\n",
       "0  /cellphones/samsung-galaxy-s8/   5/2/2017   en      us  Verizon Wireless   \n",
       "1  /cellphones/samsung-galaxy-s8/  4/28/2017   en      us       Phone Arena   \n",
       "2  /cellphones/samsung-galaxy-s8/   5/4/2017   en      us            Amazon   \n",
       "3  /cellphones/samsung-galaxy-s8/   5/2/2017   en      us           Samsung   \n",
       "4  /cellphones/samsung-galaxy-s8/  5/11/2017   en      us  Verizon Wireless   \n",
       "\n",
       "                domain  score  score_max  \\\n",
       "0  verizonwireless.com   10.0       10.0   \n",
       "1       phonearena.com   10.0       10.0   \n",
       "2           amazon.com    6.0       10.0   \n",
       "3          samsung.com    9.2       10.0   \n",
       "4  verizonwireless.com    4.0       10.0   \n",
       "\n",
       "                                             extract       author  \\\n",
       "0  As a diehard Samsung fan who has had every Sam...   CarolAnn35   \n",
       "1  Love the phone. the phone is sleek and smooth ...    james0923   \n",
       "2  Adequate feel. Nice heft. Processor's still sl...     R. Craig   \n",
       "3  Never disappointed. One of the reasons I've be...  Buster2020    \n",
       "4  I've now found that i'm in a group of people t...   S Ate Mine   \n",
       "\n",
       "                                             product  \n",
       "0                                  Samsung Galaxy S8  \n",
       "1                                  Samsung Galaxy S8  \n",
       "2  Samsung Galaxy S8 (64GB) G950U 5.8\" 4G LTE Unl...  \n",
       "3                      Samsung Galaxy S8 64GB (AT&T)  \n",
       "4                                  Samsung Galaxy S8  "
      ]
     },
     "execution_count": 5,
     "metadata": {},
     "output_type": "execute_result"
    }
   ],
   "source": [
    "df.head(5)"
   ]
  },
  {
   "cell_type": "markdown",
   "id": "98169414",
   "metadata": {},
   "source": [
    "3. Round off scores to the nearest integers"
   ]
  },
  {
   "cell_type": "code",
   "execution_count": 6,
   "id": "b0ff41b6",
   "metadata": {},
   "outputs": [],
   "source": [
    "df.score = df['score'].round()"
   ]
  },
  {
   "cell_type": "markdown",
   "id": "420641e6",
   "metadata": {},
   "source": [
    "4. Check for missing values. Impute missing values if there are any"
   ]
  },
  {
   "cell_type": "code",
   "execution_count": 7,
   "id": "6ed16bc5",
   "metadata": {},
   "outputs": [
    {
     "data": {
      "text/plain": [
       "209542"
      ]
     },
     "execution_count": 7,
     "metadata": {},
     "output_type": "execute_result"
    }
   ],
   "source": [
    "df.isnull().sum().sum() "
   ]
  },
  {
   "cell_type": "code",
   "execution_count": 8,
   "id": "8db7179c",
   "metadata": {},
   "outputs": [
    {
     "data": {
      "text/html": [
       "<div>\n",
       "<style scoped>\n",
       "    .dataframe tbody tr th:only-of-type {\n",
       "        vertical-align: middle;\n",
       "    }\n",
       "\n",
       "    .dataframe tbody tr th {\n",
       "        vertical-align: top;\n",
       "    }\n",
       "\n",
       "    .dataframe thead th {\n",
       "        text-align: right;\n",
       "    }\n",
       "</style>\n",
       "<table border=\"1\" class=\"dataframe\">\n",
       "  <thead>\n",
       "    <tr style=\"text-align: right;\">\n",
       "      <th></th>\n",
       "      <th>column_name</th>\n",
       "      <th>percent_missing</th>\n",
       "    </tr>\n",
       "  </thead>\n",
       "  <tbody>\n",
       "    <tr>\n",
       "      <th>phone_url</th>\n",
       "      <td>phone_url</td>\n",
       "      <td>0</td>\n",
       "    </tr>\n",
       "    <tr>\n",
       "      <th>date</th>\n",
       "      <td>date</td>\n",
       "      <td>0</td>\n",
       "    </tr>\n",
       "    <tr>\n",
       "      <th>lang</th>\n",
       "      <td>lang</td>\n",
       "      <td>0</td>\n",
       "    </tr>\n",
       "    <tr>\n",
       "      <th>country</th>\n",
       "      <td>country</td>\n",
       "      <td>0</td>\n",
       "    </tr>\n",
       "    <tr>\n",
       "      <th>source</th>\n",
       "      <td>source</td>\n",
       "      <td>0</td>\n",
       "    </tr>\n",
       "    <tr>\n",
       "      <th>domain</th>\n",
       "      <td>domain</td>\n",
       "      <td>0</td>\n",
       "    </tr>\n",
       "    <tr>\n",
       "      <th>product</th>\n",
       "      <td>product</td>\n",
       "      <td>1</td>\n",
       "    </tr>\n",
       "    <tr>\n",
       "      <th>extract</th>\n",
       "      <td>extract</td>\n",
       "      <td>19361</td>\n",
       "    </tr>\n",
       "    <tr>\n",
       "      <th>author</th>\n",
       "      <td>author</td>\n",
       "      <td>63202</td>\n",
       "    </tr>\n",
       "    <tr>\n",
       "      <th>score</th>\n",
       "      <td>score</td>\n",
       "      <td>63489</td>\n",
       "    </tr>\n",
       "    <tr>\n",
       "      <th>score_max</th>\n",
       "      <td>score_max</td>\n",
       "      <td>63489</td>\n",
       "    </tr>\n",
       "  </tbody>\n",
       "</table>\n",
       "</div>"
      ],
      "text/plain": [
       "          column_name  percent_missing\n",
       "phone_url   phone_url                0\n",
       "date             date                0\n",
       "lang             lang                0\n",
       "country       country                0\n",
       "source         source                0\n",
       "domain         domain                0\n",
       "product       product                1\n",
       "extract       extract            19361\n",
       "author         author            63202\n",
       "score           score            63489\n",
       "score_max   score_max            63489"
      ]
     },
     "execution_count": 8,
     "metadata": {},
     "output_type": "execute_result"
    }
   ],
   "source": [
    "# Identifying the percentage of missing values for each columns\n",
    "percent_missing = df.isnull().sum() #* 100 / len(df)\n",
    "missing_value_df = pd.DataFrame({'column_name': df.columns,\n",
    "                                 'percent_missing': percent_missing})\n",
    "\n",
    "#Sorting the dataframe based on percentage of missing values\n",
    "missing_value_df.sort_values('percent_missing', inplace=True)\n",
    "missing_value_df"
   ]
  },
  {
   "cell_type": "code",
   "execution_count": 9,
   "id": "f126674e",
   "metadata": {},
   "outputs": [],
   "source": [
    "data = df.dropna()"
   ]
  },
  {
   "cell_type": "code",
   "execution_count": 10,
   "id": "59c04ab9",
   "metadata": {},
   "outputs": [
    {
     "name": "stdout",
     "output_type": "stream",
     "text": [
      "<class 'pandas.core.frame.DataFrame'>\n",
      "Int64Index: 1275917 entries, 0 to 163836\n",
      "Data columns (total 11 columns):\n",
      " #   Column     Non-Null Count    Dtype  \n",
      "---  ------     --------------    -----  \n",
      " 0   phone_url  1275917 non-null  object \n",
      " 1   date       1275917 non-null  object \n",
      " 2   lang       1275917 non-null  object \n",
      " 3   country    1275917 non-null  object \n",
      " 4   source     1275917 non-null  object \n",
      " 5   domain     1275917 non-null  object \n",
      " 6   score      1275917 non-null  float64\n",
      " 7   score_max  1275917 non-null  float64\n",
      " 8   extract    1275917 non-null  object \n",
      " 9   author     1275917 non-null  object \n",
      " 10  product    1275917 non-null  object \n",
      "dtypes: float64(2), object(9)\n",
      "memory usage: 116.8+ MB\n"
     ]
    }
   ],
   "source": [
    "data.info()"
   ]
  },
  {
   "cell_type": "markdown",
   "id": "8f82d79a",
   "metadata": {},
   "source": [
    "5. Check for duplicate values and remove them if there is any."
   ]
  },
  {
   "cell_type": "code",
   "execution_count": 11,
   "id": "09409e28",
   "metadata": {},
   "outputs": [
    {
     "data": {
      "text/html": [
       "<div>\n",
       "<style scoped>\n",
       "    .dataframe tbody tr th:only-of-type {\n",
       "        vertical-align: middle;\n",
       "    }\n",
       "\n",
       "    .dataframe tbody tr th {\n",
       "        vertical-align: top;\n",
       "    }\n",
       "\n",
       "    .dataframe thead th {\n",
       "        text-align: right;\n",
       "    }\n",
       "</style>\n",
       "<table border=\"1\" class=\"dataframe\">\n",
       "  <thead>\n",
       "    <tr style=\"text-align: right;\">\n",
       "      <th></th>\n",
       "      <th>phone_url</th>\n",
       "      <th>date</th>\n",
       "      <th>lang</th>\n",
       "      <th>country</th>\n",
       "      <th>source</th>\n",
       "      <th>domain</th>\n",
       "      <th>score</th>\n",
       "      <th>score_max</th>\n",
       "      <th>extract</th>\n",
       "      <th>author</th>\n",
       "      <th>product</th>\n",
       "    </tr>\n",
       "  </thead>\n",
       "  <tbody>\n",
       "    <tr>\n",
       "      <th>0</th>\n",
       "      <td>/cellphones/samsung-galaxy-s8/</td>\n",
       "      <td>5/2/2017</td>\n",
       "      <td>en</td>\n",
       "      <td>us</td>\n",
       "      <td>Verizon Wireless</td>\n",
       "      <td>verizonwireless.com</td>\n",
       "      <td>10.0</td>\n",
       "      <td>10.0</td>\n",
       "      <td>As a diehard Samsung fan who has had every Sam...</td>\n",
       "      <td>CarolAnn35</td>\n",
       "      <td>Samsung Galaxy S8</td>\n",
       "    </tr>\n",
       "    <tr>\n",
       "      <th>1</th>\n",
       "      <td>/cellphones/samsung-galaxy-s8/</td>\n",
       "      <td>4/28/2017</td>\n",
       "      <td>en</td>\n",
       "      <td>us</td>\n",
       "      <td>Phone Arena</td>\n",
       "      <td>phonearena.com</td>\n",
       "      <td>10.0</td>\n",
       "      <td>10.0</td>\n",
       "      <td>Love the phone. the phone is sleek and smooth ...</td>\n",
       "      <td>james0923</td>\n",
       "      <td>Samsung Galaxy S8</td>\n",
       "    </tr>\n",
       "    <tr>\n",
       "      <th>2</th>\n",
       "      <td>/cellphones/samsung-galaxy-s8/</td>\n",
       "      <td>5/4/2017</td>\n",
       "      <td>en</td>\n",
       "      <td>us</td>\n",
       "      <td>Amazon</td>\n",
       "      <td>amazon.com</td>\n",
       "      <td>6.0</td>\n",
       "      <td>10.0</td>\n",
       "      <td>Adequate feel. Nice heft. Processor's still sl...</td>\n",
       "      <td>R. Craig</td>\n",
       "      <td>Samsung Galaxy S8 (64GB) G950U 5.8\" 4G LTE Unl...</td>\n",
       "    </tr>\n",
       "    <tr>\n",
       "      <th>3</th>\n",
       "      <td>/cellphones/samsung-galaxy-s8/</td>\n",
       "      <td>5/2/2017</td>\n",
       "      <td>en</td>\n",
       "      <td>us</td>\n",
       "      <td>Samsung</td>\n",
       "      <td>samsung.com</td>\n",
       "      <td>9.0</td>\n",
       "      <td>10.0</td>\n",
       "      <td>Never disappointed. One of the reasons I've be...</td>\n",
       "      <td>Buster2020</td>\n",
       "      <td>Samsung Galaxy S8 64GB (AT&amp;T)</td>\n",
       "    </tr>\n",
       "    <tr>\n",
       "      <th>4</th>\n",
       "      <td>/cellphones/samsung-galaxy-s8/</td>\n",
       "      <td>5/11/2017</td>\n",
       "      <td>en</td>\n",
       "      <td>us</td>\n",
       "      <td>Verizon Wireless</td>\n",
       "      <td>verizonwireless.com</td>\n",
       "      <td>4.0</td>\n",
       "      <td>10.0</td>\n",
       "      <td>I've now found that i'm in a group of people t...</td>\n",
       "      <td>S Ate Mine</td>\n",
       "      <td>Samsung Galaxy S8</td>\n",
       "    </tr>\n",
       "    <tr>\n",
       "      <th>...</th>\n",
       "      <td>...</td>\n",
       "      <td>...</td>\n",
       "      <td>...</td>\n",
       "      <td>...</td>\n",
       "      <td>...</td>\n",
       "      <td>...</td>\n",
       "      <td>...</td>\n",
       "      <td>...</td>\n",
       "      <td>...</td>\n",
       "      <td>...</td>\n",
       "      <td>...</td>\n",
       "    </tr>\n",
       "    <tr>\n",
       "      <th>163832</th>\n",
       "      <td>/cellphones/alcatel-ot-club_1187/</td>\n",
       "      <td>5/12/2000</td>\n",
       "      <td>de</td>\n",
       "      <td>de</td>\n",
       "      <td>Ciao</td>\n",
       "      <td>ciao.de</td>\n",
       "      <td>2.0</td>\n",
       "      <td>10.0</td>\n",
       "      <td>Weil mein Onkel bei ALcatel arbeitet habe ich ...</td>\n",
       "      <td>david.paul</td>\n",
       "      <td>Alcatel Club Plus Handy</td>\n",
       "    </tr>\n",
       "    <tr>\n",
       "      <th>163833</th>\n",
       "      <td>/cellphones/alcatel-ot-club_1187/</td>\n",
       "      <td>5/11/2000</td>\n",
       "      <td>de</td>\n",
       "      <td>de</td>\n",
       "      <td>Ciao</td>\n",
       "      <td>ciao.de</td>\n",
       "      <td>10.0</td>\n",
       "      <td>10.0</td>\n",
       "      <td>Hy Liebe Leserinnen und Leser!! Ich habe seit ...</td>\n",
       "      <td>Christiane14</td>\n",
       "      <td>Alcatel Club Plus Handy</td>\n",
       "    </tr>\n",
       "    <tr>\n",
       "      <th>163834</th>\n",
       "      <td>/cellphones/alcatel-ot-club_1187/</td>\n",
       "      <td>5/4/2000</td>\n",
       "      <td>de</td>\n",
       "      <td>de</td>\n",
       "      <td>Ciao</td>\n",
       "      <td>ciao.de</td>\n",
       "      <td>2.0</td>\n",
       "      <td>10.0</td>\n",
       "      <td>Jetzt hat wohl Alcatell gedacht ,sie machen wa...</td>\n",
       "      <td>michaelawr</td>\n",
       "      <td>Alcatel Club Plus Handy</td>\n",
       "    </tr>\n",
       "    <tr>\n",
       "      <th>163835</th>\n",
       "      <td>/cellphones/alcatel-ot-club_1187/</td>\n",
       "      <td>5/1/2000</td>\n",
       "      <td>de</td>\n",
       "      <td>de</td>\n",
       "      <td>Ciao</td>\n",
       "      <td>ciao.de</td>\n",
       "      <td>8.0</td>\n",
       "      <td>10.0</td>\n",
       "      <td>Ich bin seit 2 Jahren (stolzer) Besitzer eines...</td>\n",
       "      <td>claudia0815</td>\n",
       "      <td>Alcatel Club Plus Handy</td>\n",
       "    </tr>\n",
       "    <tr>\n",
       "      <th>163836</th>\n",
       "      <td>/cellphones/alcatel-ot-club_1187/</td>\n",
       "      <td>4/25/2000</td>\n",
       "      <td>de</td>\n",
       "      <td>de</td>\n",
       "      <td>Ciao</td>\n",
       "      <td>ciao.de</td>\n",
       "      <td>2.0</td>\n",
       "      <td>10.0</td>\n",
       "      <td>Was sich Alkatel hier wieder ausgedacht hat,sc...</td>\n",
       "      <td>michaelawr</td>\n",
       "      <td>Alcatel Club Plus Handy</td>\n",
       "    </tr>\n",
       "  </tbody>\n",
       "</table>\n",
       "<p>1271437 rows × 11 columns</p>\n",
       "</div>"
      ],
      "text/plain": [
       "                                phone_url       date lang country  \\\n",
       "0          /cellphones/samsung-galaxy-s8/   5/2/2017   en      us   \n",
       "1          /cellphones/samsung-galaxy-s8/  4/28/2017   en      us   \n",
       "2          /cellphones/samsung-galaxy-s8/   5/4/2017   en      us   \n",
       "3          /cellphones/samsung-galaxy-s8/   5/2/2017   en      us   \n",
       "4          /cellphones/samsung-galaxy-s8/  5/11/2017   en      us   \n",
       "...                                   ...        ...  ...     ...   \n",
       "163832  /cellphones/alcatel-ot-club_1187/  5/12/2000   de      de   \n",
       "163833  /cellphones/alcatel-ot-club_1187/  5/11/2000   de      de   \n",
       "163834  /cellphones/alcatel-ot-club_1187/   5/4/2000   de      de   \n",
       "163835  /cellphones/alcatel-ot-club_1187/   5/1/2000   de      de   \n",
       "163836  /cellphones/alcatel-ot-club_1187/  4/25/2000   de      de   \n",
       "\n",
       "                  source               domain  score  score_max  \\\n",
       "0       Verizon Wireless  verizonwireless.com   10.0       10.0   \n",
       "1            Phone Arena       phonearena.com   10.0       10.0   \n",
       "2                 Amazon           amazon.com    6.0       10.0   \n",
       "3                Samsung          samsung.com    9.0       10.0   \n",
       "4       Verizon Wireless  verizonwireless.com    4.0       10.0   \n",
       "...                  ...                  ...    ...        ...   \n",
       "163832              Ciao              ciao.de    2.0       10.0   \n",
       "163833              Ciao              ciao.de   10.0       10.0   \n",
       "163834              Ciao              ciao.de    2.0       10.0   \n",
       "163835              Ciao              ciao.de    8.0       10.0   \n",
       "163836              Ciao              ciao.de    2.0       10.0   \n",
       "\n",
       "                                                  extract        author  \\\n",
       "0       As a diehard Samsung fan who has had every Sam...    CarolAnn35   \n",
       "1       Love the phone. the phone is sleek and smooth ...     james0923   \n",
       "2       Adequate feel. Nice heft. Processor's still sl...      R. Craig   \n",
       "3       Never disappointed. One of the reasons I've be...   Buster2020    \n",
       "4       I've now found that i'm in a group of people t...    S Ate Mine   \n",
       "...                                                   ...           ...   \n",
       "163832  Weil mein Onkel bei ALcatel arbeitet habe ich ...    david.paul   \n",
       "163833  Hy Liebe Leserinnen und Leser!! Ich habe seit ...  Christiane14   \n",
       "163834  Jetzt hat wohl Alcatell gedacht ,sie machen wa...    michaelawr   \n",
       "163835  Ich bin seit 2 Jahren (stolzer) Besitzer eines...   claudia0815   \n",
       "163836  Was sich Alkatel hier wieder ausgedacht hat,sc...    michaelawr   \n",
       "\n",
       "                                                  product  \n",
       "0                                       Samsung Galaxy S8  \n",
       "1                                       Samsung Galaxy S8  \n",
       "2       Samsung Galaxy S8 (64GB) G950U 5.8\" 4G LTE Unl...  \n",
       "3                           Samsung Galaxy S8 64GB (AT&T)  \n",
       "4                                       Samsung Galaxy S8  \n",
       "...                                                   ...  \n",
       "163832                            Alcatel Club Plus Handy  \n",
       "163833                            Alcatel Club Plus Handy  \n",
       "163834                            Alcatel Club Plus Handy  \n",
       "163835                            Alcatel Club Plus Handy  \n",
       "163836                            Alcatel Club Plus Handy  \n",
       "\n",
       "[1271437 rows x 11 columns]"
      ]
     },
     "execution_count": 11,
     "metadata": {},
     "output_type": "execute_result"
    }
   ],
   "source": [
    "data.drop_duplicates()"
   ]
  },
  {
   "cell_type": "markdown",
   "id": "069cf913",
   "metadata": {},
   "source": [
    "6. Keep only 1000000 data samples. Use random state=612."
   ]
  },
  {
   "cell_type": "code",
   "execution_count": 12,
   "id": "3d105a9d",
   "metadata": {},
   "outputs": [
    {
     "name": "stdout",
     "output_type": "stream",
     "text": [
      "<class 'pandas.core.frame.DataFrame'>\n",
      "Int64Index: 1000000 entries, 146164 to 58871\n",
      "Data columns (total 11 columns):\n",
      " #   Column     Non-Null Count    Dtype  \n",
      "---  ------     --------------    -----  \n",
      " 0   phone_url  1000000 non-null  object \n",
      " 1   date       1000000 non-null  object \n",
      " 2   lang       1000000 non-null  object \n",
      " 3   country    1000000 non-null  object \n",
      " 4   source     1000000 non-null  object \n",
      " 5   domain     1000000 non-null  object \n",
      " 6   score      1000000 non-null  float64\n",
      " 7   score_max  1000000 non-null  float64\n",
      " 8   extract    1000000 non-null  object \n",
      " 9   author     1000000 non-null  object \n",
      " 10  product    1000000 non-null  object \n",
      "dtypes: float64(2), object(9)\n",
      "memory usage: 91.6+ MB\n"
     ]
    }
   ],
   "source": [
    "data = data.sample(n=1000000, replace=True, random_state=612)\n",
    "data.info()"
   ]
  },
  {
   "cell_type": "markdown",
   "id": "2ebf0cec",
   "metadata": {},
   "source": [
    "7. Drop irrelevant features. Keep features like Author, Product, and Score."
   ]
  },
  {
   "cell_type": "code",
   "execution_count": 13,
   "id": "f24d1a96",
   "metadata": {},
   "outputs": [],
   "source": [
    "remove_col = ['phone_url','date','lang','country','domain','extract','score_max','source']"
   ]
  },
  {
   "cell_type": "code",
   "execution_count": 14,
   "id": "b20678db",
   "metadata": {},
   "outputs": [
    {
     "data": {
      "text/plain": [
       "(1000000, 3)"
      ]
     },
     "execution_count": 14,
     "metadata": {},
     "output_type": "execute_result"
    },
    {
     "data": {
      "text/html": [
       "<div>\n",
       "<style scoped>\n",
       "    .dataframe tbody tr th:only-of-type {\n",
       "        vertical-align: middle;\n",
       "    }\n",
       "\n",
       "    .dataframe tbody tr th {\n",
       "        vertical-align: top;\n",
       "    }\n",
       "\n",
       "    .dataframe thead th {\n",
       "        text-align: right;\n",
       "    }\n",
       "</style>\n",
       "<table border=\"1\" class=\"dataframe\">\n",
       "  <thead>\n",
       "    <tr style=\"text-align: right;\">\n",
       "      <th></th>\n",
       "      <th>score</th>\n",
       "      <th>author</th>\n",
       "      <th>product</th>\n",
       "    </tr>\n",
       "  </thead>\n",
       "  <tbody>\n",
       "    <tr>\n",
       "      <th>146164</th>\n",
       "      <td>10.0</td>\n",
       "      <td>titanicb52</td>\n",
       "      <td>7135</td>\n",
       "    </tr>\n",
       "    <tr>\n",
       "      <th>194012</th>\n",
       "      <td>2.0</td>\n",
       "      <td>Amazon Customer</td>\n",
       "      <td>BlackBerry PRIV (Black)</td>\n",
       "    </tr>\n",
       "    <tr>\n",
       "      <th>256524</th>\n",
       "      <td>6.0</td>\n",
       "      <td>Nancy</td>\n",
       "      <td>Alcatel OneTouch Idol 3 Global Unlocked 4G LTE...</td>\n",
       "    </tr>\n",
       "    <tr>\n",
       "      <th>37940</th>\n",
       "      <td>8.0</td>\n",
       "      <td>Jonas \"Description: Indescribable\"</td>\n",
       "      <td>Samsung Galaxy Nexus I515 Camera Touch Android...</td>\n",
       "    </tr>\n",
       "  </tbody>\n",
       "</table>\n",
       "</div>"
      ],
      "text/plain": [
       "        score                              author  \\\n",
       "146164   10.0                          titanicb52   \n",
       "194012    2.0                     Amazon Customer   \n",
       "256524    6.0                               Nancy   \n",
       "37940     8.0  Jonas \"Description: Indescribable\"   \n",
       "\n",
       "                                                  product  \n",
       "146164                                               7135  \n",
       "194012                            BlackBerry PRIV (Black)  \n",
       "256524  Alcatel OneTouch Idol 3 Global Unlocked 4G LTE...  \n",
       "37940   Samsung Galaxy Nexus I515 Camera Touch Android...  "
      ]
     },
     "execution_count": 14,
     "metadata": {},
     "output_type": "execute_result"
    }
   ],
   "source": [
    "# Remove those columns/features from the main dataset\n",
    "data = data.drop(remove_col, axis = 1)\n",
    "data.shape\n",
    "data.head(4)"
   ]
  },
  {
   "cell_type": "markdown",
   "id": "d19fb1f4",
   "metadata": {},
   "source": [
    "### Answer the following questions"
   ]
  },
  {
   "cell_type": "markdown",
   "id": "292bfee8",
   "metadata": {},
   "source": [
    "1. Identify the most rated features."
   ]
  },
  {
   "cell_type": "code",
   "execution_count": 15,
   "id": "c4973441",
   "metadata": {},
   "outputs": [
    {
     "data": {
      "text/plain": [
       "Lenovo Vibe K4 Note (White,16GB)              4104\n",
       "Lenovo Vibe K4 Note (Black, 16GB)             3483\n",
       "OnePlus 3 (Graphite, 64 GB)                   3177\n",
       "OnePlus 3 (Soft Gold, 64 GB)                  2852\n",
       "Huawei P8lite zwart / 16 GB                   2088\n",
       "                                              ... \n",
       "HTC S711 Painel frontal com lente                1\n",
       "HUAWEI P9 32GB DS PLATA                          1\n",
       "LG C2000                                         1\n",
       "Sony Ericsson K550iM                             1\n",
       "Steelseries Siberia P300 ‐kuulokemikrofoni       1\n",
       "Name: product, Length: 47617, dtype: int64"
      ]
     },
     "execution_count": 15,
     "metadata": {},
     "output_type": "execute_result"
    }
   ],
   "source": [
    "data['product'].value_counts()"
   ]
  },
  {
   "cell_type": "markdown",
   "id": "71ba34be",
   "metadata": {},
   "source": [
    "#### Comment : The product 'Lenovo Vibe K4 Note (White,16GB) is the one that has been rated the most number of times"
   ]
  },
  {
   "cell_type": "markdown",
   "id": "bb2b2e56",
   "metadata": {},
   "source": [
    "2. Identify the users with most number of reviews."
   ]
  },
  {
   "cell_type": "code",
   "execution_count": 16,
   "id": "773383fe",
   "metadata": {},
   "outputs": [
    {
     "data": {
      "text/plain": [
       "Amazon Customer    60098\n",
       "Cliente Amazon     15243\n",
       "e-bit               6646\n",
       "Client d'Amazon     6162\n",
       "Amazon Kunde        3804\n",
       "                   ...  \n",
       "emily souza            1\n",
       "Amber Butler           1\n",
       "rufus                  1\n",
       "Richu                  1\n",
       "lisakristiina          1\n",
       "Name: author, Length: 453418, dtype: int64"
      ]
     },
     "execution_count": 16,
     "metadata": {},
     "output_type": "execute_result"
    }
   ],
   "source": [
    "data['author'].value_counts()"
   ]
  },
  {
   "cell_type": "markdown",
   "id": "978cfc78",
   "metadata": {},
   "source": [
    "#### Comment : A unknown user marked as 'Amazon Customer' is the one who has reviewed the most number of times"
   ]
  },
  {
   "cell_type": "markdown",
   "id": "86af6ca3",
   "metadata": {},
   "source": [
    "3. Select the data with products having more than 50 ratings and users who have given more than 50 ratings. Report the shape of the final dataset."
   ]
  },
  {
   "cell_type": "code",
   "execution_count": 17,
   "id": "4a6862de",
   "metadata": {},
   "outputs": [
    {
     "data": {
      "text/html": [
       "<div>\n",
       "<style scoped>\n",
       "    .dataframe tbody tr th:only-of-type {\n",
       "        vertical-align: middle;\n",
       "    }\n",
       "\n",
       "    .dataframe tbody tr th {\n",
       "        vertical-align: top;\n",
       "    }\n",
       "\n",
       "    .dataframe thead th {\n",
       "        text-align: right;\n",
       "    }\n",
       "</style>\n",
       "<table border=\"1\" class=\"dataframe\">\n",
       "  <thead>\n",
       "    <tr style=\"text-align: right;\">\n",
       "      <th></th>\n",
       "      <th>score</th>\n",
       "    </tr>\n",
       "  </thead>\n",
       "  <tbody>\n",
       "    <tr>\n",
       "      <th>count</th>\n",
       "      <td>1000000.000000</td>\n",
       "    </tr>\n",
       "    <tr>\n",
       "      <th>mean</th>\n",
       "      <td>8.011225</td>\n",
       "    </tr>\n",
       "    <tr>\n",
       "      <th>std</th>\n",
       "      <td>2.622101</td>\n",
       "    </tr>\n",
       "    <tr>\n",
       "      <th>min</th>\n",
       "      <td>0.000000</td>\n",
       "    </tr>\n",
       "    <tr>\n",
       "      <th>25%</th>\n",
       "      <td>8.000000</td>\n",
       "    </tr>\n",
       "    <tr>\n",
       "      <th>50%</th>\n",
       "      <td>9.000000</td>\n",
       "    </tr>\n",
       "    <tr>\n",
       "      <th>75%</th>\n",
       "      <td>10.000000</td>\n",
       "    </tr>\n",
       "    <tr>\n",
       "      <th>max</th>\n",
       "      <td>10.000000</td>\n",
       "    </tr>\n",
       "  </tbody>\n",
       "</table>\n",
       "</div>"
      ],
      "text/plain": [
       "                score\n",
       "count  1000000.000000\n",
       "mean         8.011225\n",
       "std          2.622101\n",
       "min          0.000000\n",
       "25%          8.000000\n",
       "50%          9.000000\n",
       "75%         10.000000\n",
       "max         10.000000"
      ]
     },
     "execution_count": 17,
     "metadata": {},
     "output_type": "execute_result"
    }
   ],
   "source": [
    "data.describe()"
   ]
  },
  {
   "cell_type": "code",
   "execution_count": 18,
   "id": "772588a5",
   "metadata": {},
   "outputs": [],
   "source": [
    "counts1 = pd.value_counts(data['product'])\n",
    "counts2 = pd.value_counts(data['author'])"
   ]
  },
  {
   "cell_type": "code",
   "execution_count": 19,
   "id": "66318fca",
   "metadata": {},
   "outputs": [],
   "source": [
    "data1 = data[(data['product'].isin(counts1[counts1 >= 50].index))&(data['author'].isin(counts2[counts2 >= 50].index))]"
   ]
  },
  {
   "cell_type": "code",
   "execution_count": 20,
   "id": "09dffa18",
   "metadata": {},
   "outputs": [
    {
     "data": {
      "text/plain": [
       "(113509, 3)"
      ]
     },
     "execution_count": 20,
     "metadata": {},
     "output_type": "execute_result"
    }
   ],
   "source": [
    "data1.shape"
   ]
  },
  {
   "cell_type": "markdown",
   "id": "e40f4d36",
   "metadata": {},
   "source": [
    "### Build a popularity based model and recommend top 5 mobile phones."
   ]
  },
  {
   "cell_type": "markdown",
   "id": "eee66514",
   "metadata": {},
   "source": [
    "1. Count of author for each unique product as recommendation score "
   ]
  },
  {
   "cell_type": "code",
   "execution_count": 21,
   "id": "67b2f494",
   "metadata": {},
   "outputs": [
    {
     "data": {
      "text/html": [
       "<div>\n",
       "<style scoped>\n",
       "    .dataframe tbody tr th:only-of-type {\n",
       "        vertical-align: middle;\n",
       "    }\n",
       "\n",
       "    .dataframe tbody tr th {\n",
       "        vertical-align: top;\n",
       "    }\n",
       "\n",
       "    .dataframe thead th {\n",
       "        text-align: right;\n",
       "    }\n",
       "</style>\n",
       "<table border=\"1\" class=\"dataframe\">\n",
       "  <thead>\n",
       "    <tr style=\"text-align: right;\">\n",
       "      <th></th>\n",
       "      <th>score</th>\n",
       "      <th>author</th>\n",
       "      <th>product</th>\n",
       "    </tr>\n",
       "  </thead>\n",
       "  <tbody>\n",
       "    <tr>\n",
       "      <th>194012</th>\n",
       "      <td>2.0</td>\n",
       "      <td>Amazon Customer</td>\n",
       "      <td>BlackBerry PRIV (Black)</td>\n",
       "    </tr>\n",
       "    <tr>\n",
       "      <th>256524</th>\n",
       "      <td>6.0</td>\n",
       "      <td>Nancy</td>\n",
       "      <td>Alcatel OneTouch Idol 3 Global Unlocked 4G LTE...</td>\n",
       "    </tr>\n",
       "    <tr>\n",
       "      <th>332575</th>\n",
       "      <td>8.0</td>\n",
       "      <td>Pietro</td>\n",
       "      <td>Lenovo Motorola Moto G Smartphone, 4,5 pollici...</td>\n",
       "    </tr>\n",
       "  </tbody>\n",
       "</table>\n",
       "</div>"
      ],
      "text/plain": [
       "        score           author  \\\n",
       "194012    2.0  Amazon Customer   \n",
       "256524    6.0            Nancy   \n",
       "332575    8.0           Pietro   \n",
       "\n",
       "                                                  product  \n",
       "194012                            BlackBerry PRIV (Black)  \n",
       "256524  Alcatel OneTouch Idol 3 Global Unlocked 4G LTE...  \n",
       "332575  Lenovo Motorola Moto G Smartphone, 4,5 pollici...  "
      ]
     },
     "execution_count": 21,
     "metadata": {},
     "output_type": "execute_result"
    }
   ],
   "source": [
    "data1.head(3)"
   ]
  },
  {
   "cell_type": "code",
   "execution_count": 22,
   "id": "354d946e",
   "metadata": {},
   "outputs": [],
   "source": [
    "train_data, test_data = train_test_split(data1, test_size = 0.25, random_state=123)"
   ]
  },
  {
   "cell_type": "code",
   "execution_count": 23,
   "id": "657aa90b",
   "metadata": {},
   "outputs": [
    {
     "data": {
      "text/html": [
       "<div>\n",
       "<style scoped>\n",
       "    .dataframe tbody tr th:only-of-type {\n",
       "        vertical-align: middle;\n",
       "    }\n",
       "\n",
       "    .dataframe tbody tr th {\n",
       "        vertical-align: top;\n",
       "    }\n",
       "\n",
       "    .dataframe thead th {\n",
       "        text-align: right;\n",
       "    }\n",
       "</style>\n",
       "<table border=\"1\" class=\"dataframe\">\n",
       "  <thead>\n",
       "    <tr style=\"text-align: right;\">\n",
       "      <th></th>\n",
       "      <th>product</th>\n",
       "      <th>score</th>\n",
       "    </tr>\n",
       "  </thead>\n",
       "  <tbody>\n",
       "    <tr>\n",
       "      <th>0</th>\n",
       "      <td>3220</td>\n",
       "      <td>2</td>\n",
       "    </tr>\n",
       "    <tr>\n",
       "      <th>1</th>\n",
       "      <td>5.5-Inch Unlocked Lenovo A850 3G Smartphone-(9...</td>\n",
       "      <td>5</td>\n",
       "    </tr>\n",
       "    <tr>\n",
       "      <th>2</th>\n",
       "      <td>AICEK Coque ASUS ZenFone 3 Max ZC520TL, AICEK ...</td>\n",
       "      <td>18</td>\n",
       "    </tr>\n",
       "    <tr>\n",
       "      <th>3</th>\n",
       "      <td>AICEK Coque ASUS ZenFone 3 ZE520KL, AICEK Etui...</td>\n",
       "      <td>15</td>\n",
       "    </tr>\n",
       "    <tr>\n",
       "      <th>4</th>\n",
       "      <td>AICEK Coque Samsung Galaxy A3 2016, AICEK Etui...</td>\n",
       "      <td>63</td>\n",
       "    </tr>\n",
       "  </tbody>\n",
       "</table>\n",
       "</div>"
      ],
      "text/plain": [
       "                                             product  score\n",
       "0                                               3220      2\n",
       "1  5.5-Inch Unlocked Lenovo A850 3G Smartphone-(9...      5\n",
       "2  AICEK Coque ASUS ZenFone 3 Max ZC520TL, AICEK ...     18\n",
       "3  AICEK Coque ASUS ZenFone 3 ZE520KL, AICEK Etui...     15\n",
       "4  AICEK Coque Samsung Galaxy A3 2016, AICEK Etui...     63"
      ]
     },
     "execution_count": 23,
     "metadata": {},
     "output_type": "execute_result"
    }
   ],
   "source": [
    "#Count of author for each unique product as recommendation score \n",
    "train_data_grouped = train_data.groupby('product').agg({'author': 'count'}).reset_index()\n",
    "train_data_grouped.rename(columns = {'author': 'score'},inplace=True)\n",
    "train_data_grouped.head()"
   ]
  },
  {
   "cell_type": "markdown",
   "id": "1282c969",
   "metadata": {},
   "source": [
    "2. Sort the products on recommendation score "
   ]
  },
  {
   "cell_type": "code",
   "execution_count": 24,
   "id": "d1141e05",
   "metadata": {},
   "outputs": [],
   "source": [
    "#Sort the songs on recommendation score \n",
    "train_data_sort = train_data_grouped.sort_values(['score', 'product'], ascending = [0,1]) \n",
    "      \n",
    "#Generate a recommendation rank based upon score \n",
    "train_data_sort['Rank'] = train_data_sort['score'].rank(ascending=0, method='first') "
   ]
  },
  {
   "cell_type": "markdown",
   "id": "f1a6525d",
   "metadata": {},
   "source": [
    "3. Get the top 5 recommendations"
   ]
  },
  {
   "cell_type": "code",
   "execution_count": 25,
   "id": "270ad93c",
   "metadata": {},
   "outputs": [
    {
     "data": {
      "text/html": [
       "<div>\n",
       "<style scoped>\n",
       "    .dataframe tbody tr th:only-of-type {\n",
       "        vertical-align: middle;\n",
       "    }\n",
       "\n",
       "    .dataframe tbody tr th {\n",
       "        vertical-align: top;\n",
       "    }\n",
       "\n",
       "    .dataframe thead th {\n",
       "        text-align: right;\n",
       "    }\n",
       "</style>\n",
       "<table border=\"1\" class=\"dataframe\">\n",
       "  <thead>\n",
       "    <tr style=\"text-align: right;\">\n",
       "      <th></th>\n",
       "      <th>product</th>\n",
       "      <th>score</th>\n",
       "      <th>Rank</th>\n",
       "    </tr>\n",
       "  </thead>\n",
       "  <tbody>\n",
       "    <tr>\n",
       "      <th>1607</th>\n",
       "      <td>Lenovo Vibe K4 Note (White,16GB)</td>\n",
       "      <td>1774</td>\n",
       "      <td>1.0</td>\n",
       "    </tr>\n",
       "    <tr>\n",
       "      <th>1606</th>\n",
       "      <td>Lenovo Vibe K4 Note (Black, 16GB)</td>\n",
       "      <td>1513</td>\n",
       "      <td>2.0</td>\n",
       "    </tr>\n",
       "    <tr>\n",
       "      <th>2457</th>\n",
       "      <td>OnePlus 3 (Graphite, 64 GB)</td>\n",
       "      <td>1059</td>\n",
       "      <td>3.0</td>\n",
       "    </tr>\n",
       "    <tr>\n",
       "      <th>2458</th>\n",
       "      <td>OnePlus 3 (Soft Gold, 64 GB)</td>\n",
       "      <td>1052</td>\n",
       "      <td>4.0</td>\n",
       "    </tr>\n",
       "    <tr>\n",
       "      <th>1608</th>\n",
       "      <td>Lenovo Vibe K5 (Gold, VoLTE update)</td>\n",
       "      <td>870</td>\n",
       "      <td>5.0</td>\n",
       "    </tr>\n",
       "  </tbody>\n",
       "</table>\n",
       "</div>"
      ],
      "text/plain": [
       "                                  product  score  Rank\n",
       "1607     Lenovo Vibe K4 Note (White,16GB)   1774   1.0\n",
       "1606    Lenovo Vibe K4 Note (Black, 16GB)   1513   2.0\n",
       "2457          OnePlus 3 (Graphite, 64 GB)   1059   3.0\n",
       "2458         OnePlus 3 (Soft Gold, 64 GB)   1052   4.0\n",
       "1608  Lenovo Vibe K5 (Gold, VoLTE update)    870   5.0"
      ]
     },
     "execution_count": 25,
     "metadata": {},
     "output_type": "execute_result"
    }
   ],
   "source": [
    "#Get the top 5 recommendations \n",
    "popularity_recommendations = train_data_sort.head(5) \n",
    "popularity_recommendations "
   ]
  },
  {
   "cell_type": "markdown",
   "id": "0dee5a7d",
   "metadata": {},
   "source": [
    "### Build a collaborative filtering model using SVD. You can use SVD from surprise or build it from scratch(Note: Incase you’re building it from scratch.\n",
    "[ you can limit your data points to 5000 samples if you face memory issues). Build a collaborative filtering model using kNNWithMeans from surprise. You can try both user-based and item-based model.]"
   ]
  },
  {
   "cell_type": "code",
   "execution_count": 26,
   "id": "2f7c363a",
   "metadata": {},
   "outputs": [],
   "source": [
    "# !pip install scikit-surprise\n",
    "from surprise import Dataset,Reader\n",
    "from surprise.model_selection import cross_validate\n",
    "from surprise import NormalPredictor\n",
    "from surprise.model_selection import train_test_split  \n",
    "from surprise import SVD, KNNWithMeans\n",
    "from surprise import accuracy\n",
    "from surprise import KNNWithMeans\n",
    "from surprise import accuracy\n",
    "from surprise.model_selection import RandomizedSearchCV"
   ]
  },
  {
   "cell_type": "code",
   "execution_count": 27,
   "id": "638ecf89",
   "metadata": {},
   "outputs": [],
   "source": [
    "reader = Reader(rating_scale=(1, 10))\n",
    "\n",
    "data_new = Dataset.load_from_df(data1[['author', 'product', 'score']], reader)\n",
    "trainset, testset = train_test_split(data_new, test_size=.3, random_state=10)"
   ]
  },
  {
   "cell_type": "code",
   "execution_count": 28,
   "id": "62ee4558",
   "metadata": {},
   "outputs": [],
   "source": [
    "# Split data to train and test\n",
    "trainset, testset = train_test_split(data_new, test_size=.25,random_state=123)"
   ]
  },
  {
   "cell_type": "code",
   "execution_count": 29,
   "id": "b6a29e1a",
   "metadata": {},
   "outputs": [
    {
     "data": {
      "text/plain": [
       "<generator object Trainset.all_ratings at 0x0000028093C49040>"
      ]
     },
     "execution_count": 29,
     "metadata": {},
     "output_type": "execute_result"
    }
   ],
   "source": [
    "trainset.all_ratings()"
   ]
  },
  {
   "cell_type": "markdown",
   "id": "46c52119",
   "metadata": {},
   "source": [
    "1. Collaborative filter using SVD"
   ]
  },
  {
   "cell_type": "code",
   "execution_count": 30,
   "id": "cbcb25a4",
   "metadata": {},
   "outputs": [
    {
     "data": {
      "text/plain": [
       "<surprise.prediction_algorithms.matrix_factorization.SVD at 0x280d1ecef10>"
      ]
     },
     "execution_count": 30,
     "metadata": {},
     "output_type": "execute_result"
    }
   ],
   "source": [
    "svd_model = SVD(n_factors=5,biased=False)\n",
    "svd_model.fit(trainset)"
   ]
  },
  {
   "cell_type": "code",
   "execution_count": 31,
   "id": "d230ea46",
   "metadata": {},
   "outputs": [
    {
     "data": {
      "text/plain": [
       "('Amazon Customer', 'HTC One Me dual sim (32GB, Meteor Grey)', 10.0)"
      ]
     },
     "execution_count": 31,
     "metadata": {},
     "output_type": "execute_result"
    }
   ],
   "source": [
    "testset[0]"
   ]
  },
  {
   "cell_type": "code",
   "execution_count": 32,
   "id": "88acfee2",
   "metadata": {},
   "outputs": [],
   "source": [
    "test_pred = svd_model.test(testset)"
   ]
  },
  {
   "cell_type": "code",
   "execution_count": 33,
   "id": "a53a3584",
   "metadata": {},
   "outputs": [
    {
     "name": "stdout",
     "output_type": "stream",
     "text": [
      "RMSE: 2.6723\n"
     ]
    },
    {
     "data": {
      "text/plain": [
       "2.6722538704120105"
      ]
     },
     "execution_count": 33,
     "metadata": {},
     "output_type": "execute_result"
    }
   ],
   "source": [
    "accuracy.rmse(test_pred)"
   ]
  },
  {
   "cell_type": "markdown",
   "id": "ce54cbc4",
   "metadata": {},
   "source": [
    "### KNN and SVD Best Model fit using Cross Validation"
   ]
  },
  {
   "cell_type": "code",
   "execution_count": 34,
   "id": "acf24cae",
   "metadata": {},
   "outputs": [],
   "source": [
    "from collections import defaultdict\n",
    "\n",
    "def get_top_n(predictions, n=10):\n",
    "    # First map the predictions to each user.\n",
    "    top_n = defaultdict(list)\n",
    "    for uid, iid, true_r, est, _ in predictions:\n",
    "        top_n[uid].append((iid, est))\n",
    "\n",
    "    # Then sort the predictions for each user and retrieve the k highest ones.\n",
    "    for uid, user_ratings in top_n.items():\n",
    "        user_ratings.sort(key=lambda x: x[1], reverse=True)\n",
    "        top_n[uid] = user_ratings[:n]\n",
    "\n",
    "    return top_n"
   ]
  },
  {
   "cell_type": "code",
   "execution_count": 35,
   "id": "a9d4369f",
   "metadata": {},
   "outputs": [],
   "source": [
    "class collab_filtering_based_recommender_model():\n",
    "    def __init__(self, model, trainset, testset, data):\n",
    "        self.model = model\n",
    "        self.trainset = trainset\n",
    "        self.testset = testset\n",
    "        self.data = data\n",
    "        self.pred_test = None\n",
    "        self.recommendations = None\n",
    "        self.top_n = None\n",
    "        self.recommenddf = None\n",
    "        \n",
    "    def fit_and_predict(self):      \n",
    "        self.model.fit(self.trainset)       \n",
    "        self.pred_test = self.model.test(self.testset)        \n",
    "        rmse = round(accuracy.rmse(self.pred_test), 3)\n",
    "        print('RMSE for the predicted result is ' + str(rmse))   \n",
    "        \n",
    "        self.top_n = get_top_n(self.pred_test)\n",
    "        self.recommenddf = pd.DataFrame(columns=['userId', 'productId', 'Rating'])\n",
    "        for item in self.top_n:\n",
    "            subdf = pd.DataFrame(self.top_n[item], columns=['productId', 'Rating'])\n",
    "            subdf['userId'] = item\n",
    "            cols = subdf.columns.tolist()\n",
    "            cols = cols[-1:] + cols[:-1]\n",
    "            subdf = subdf[cols]        \n",
    "            self.recommenddf = pd.concat([self.recommenddf, subdf], axis = 0)        \n",
    "        return rmse\n",
    "        \n",
    "    def cross_validate(self):\n",
    "        cv_result = cross_validate(self.model, self.data, n_jobs=-1)\n",
    "        cv_result = round(cv_result['test_rmse'].mean(),3)\n",
    "        print('Mean CV RMSE is ' + str(cv_result))\n",
    "        return cv_result\n",
    "    \n",
    "    def recommend(self, user_id, n=5):\n",
    "        print('Recommending top ' + str(n)+ ' products for userid : ' + user_id + ' ...**')\n",
    "        df = self.recommenddf[self.recommenddf['userId'] == user_id].head(n)\n",
    "        display(df)\n",
    "        return df"
   ]
  },
  {
   "cell_type": "code",
   "execution_count": 36,
   "id": "01efc914",
   "metadata": {},
   "outputs": [],
   "source": [
    "def find_best_model(model, parameters,data):\n",
    "    clf = RandomizedSearchCV(model, parameters, n_jobs=-1, measures=['rmse'])\n",
    "    clf.fit(data)             \n",
    "    print(clf.best_score)\n",
    "    print(clf.best_params)\n",
    "    print(clf.best_estimator)\n",
    "    return clf"
   ]
  },
  {
   "cell_type": "markdown",
   "id": "fa07cfdb",
   "metadata": {},
   "source": [
    "#### User Based : Cross Validate to find the best KNN model parameters"
   ]
  },
  {
   "cell_type": "code",
   "execution_count": 38,
   "id": "e093e25a",
   "metadata": {},
   "outputs": [
    {
     "name": "stdout",
     "output_type": "stream",
     "text": [
      "{'rmse': 2.57489734020333}\n",
      "{'rmse': {'k': 18, 'sim_options': {'name': 'msd', 'user_based': True}}}\n",
      "{'rmse': <surprise.prediction_algorithms.knns.KNNWithMeans object at 0x00000280FE9819A0>}\n"
     ]
    }
   ],
   "source": [
    "sim_options = {\n",
    "    \"name\": [\"msd\", \"cosine\", \"pearson\"],\n",
    "    \"user_based\": [True]\n",
    "}\n",
    "params = { 'k': range(10,20,2), 'sim_options': sim_options}\n",
    "clf = find_best_model(KNNWithMeans, params, data_new)"
   ]
  },
  {
   "cell_type": "code",
   "execution_count": 39,
   "id": "77952177",
   "metadata": {},
   "outputs": [],
   "source": [
    "knnwithmeans = clf.best_estimator['rmse']\n",
    "col_fil_knn_user = collab_filtering_based_recommender_model(knnwithmeans, trainset, testset, data_new)"
   ]
  },
  {
   "cell_type": "code",
   "execution_count": 40,
   "id": "f43d8211",
   "metadata": {},
   "outputs": [
    {
     "name": "stdout",
     "output_type": "stream",
     "text": [
      "Computing the msd similarity matrix...\n",
      "Done computing similarity matrix.\n",
      "RMSE: 2.5942\n",
      "RMSE for the predicted result is 2.594\n"
     ]
    }
   ],
   "source": [
    "knnwithmeans_rmse = col_fil_knn_user.fit_and_predict()"
   ]
  },
  {
   "cell_type": "code",
   "execution_count": 41,
   "id": "dc694492",
   "metadata": {},
   "outputs": [
    {
     "name": "stdout",
     "output_type": "stream",
     "text": [
      "Mean CV RMSE is 2.566\n"
     ]
    }
   ],
   "source": [
    "knnwithmeans_cv_rmse = col_fil_knn_user.cross_validate()"
   ]
  },
  {
   "cell_type": "code",
   "execution_count": 42,
   "id": "3d5bca61",
   "metadata": {},
   "outputs": [
    {
     "name": "stdout",
     "output_type": "stream",
     "text": [
      "Recommending top 5 products for userid : Justin ...**\n"
     ]
    },
    {
     "data": {
      "text/html": [
       "<div>\n",
       "<style scoped>\n",
       "    .dataframe tbody tr th:only-of-type {\n",
       "        vertical-align: middle;\n",
       "    }\n",
       "\n",
       "    .dataframe tbody tr th {\n",
       "        vertical-align: top;\n",
       "    }\n",
       "\n",
       "    .dataframe thead th {\n",
       "        text-align: right;\n",
       "    }\n",
       "</style>\n",
       "<table border=\"1\" class=\"dataframe\">\n",
       "  <thead>\n",
       "    <tr style=\"text-align: right;\">\n",
       "      <th></th>\n",
       "      <th>userId</th>\n",
       "      <th>productId</th>\n",
       "      <th>Rating</th>\n",
       "    </tr>\n",
       "  </thead>\n",
       "  <tbody>\n",
       "    <tr>\n",
       "      <th>0</th>\n",
       "      <td>Justin</td>\n",
       "      <td>Samsung S5830i Galaxy Ace Onyx Black</td>\n",
       "      <td>10.0</td>\n",
       "    </tr>\n",
       "    <tr>\n",
       "      <th>1</th>\n",
       "      <td>Justin</td>\n",
       "      <td>Samsung S5830i Galaxy Ace Onyx Black</td>\n",
       "      <td>10.0</td>\n",
       "    </tr>\n",
       "    <tr>\n",
       "      <th>2</th>\n",
       "      <td>Justin</td>\n",
       "      <td>Samsung S5830i Galaxy Ace Onyx Black</td>\n",
       "      <td>10.0</td>\n",
       "    </tr>\n",
       "    <tr>\n",
       "      <th>3</th>\n",
       "      <td>Justin</td>\n",
       "      <td>Apple iPhone 6s Plus Unlocked GSM 4G LTE Smart...</td>\n",
       "      <td>9.639526</td>\n",
       "    </tr>\n",
       "    <tr>\n",
       "      <th>4</th>\n",
       "      <td>Justin</td>\n",
       "      <td>Samsung Galaxy Note II N7100 16GB Gray-Unlocke...</td>\n",
       "      <td>9.327505</td>\n",
       "    </tr>\n",
       "  </tbody>\n",
       "</table>\n",
       "</div>"
      ],
      "text/plain": [
       "   userId                                          productId    Rating\n",
       "0  Justin               Samsung S5830i Galaxy Ace Onyx Black      10.0\n",
       "1  Justin               Samsung S5830i Galaxy Ace Onyx Black      10.0\n",
       "2  Justin               Samsung S5830i Galaxy Ace Onyx Black      10.0\n",
       "3  Justin  Apple iPhone 6s Plus Unlocked GSM 4G LTE Smart...  9.639526\n",
       "4  Justin  Samsung Galaxy Note II N7100 16GB Gray-Unlocke...  9.327505"
      ]
     },
     "metadata": {},
     "output_type": "display_data"
    },
    {
     "name": "stdout",
     "output_type": "stream",
     "text": [
      "Recommending top 5 products for userid : Sebastian ...**\n"
     ]
    },
    {
     "data": {
      "text/html": [
       "<div>\n",
       "<style scoped>\n",
       "    .dataframe tbody tr th:only-of-type {\n",
       "        vertical-align: middle;\n",
       "    }\n",
       "\n",
       "    .dataframe tbody tr th {\n",
       "        vertical-align: top;\n",
       "    }\n",
       "\n",
       "    .dataframe thead th {\n",
       "        text-align: right;\n",
       "    }\n",
       "</style>\n",
       "<table border=\"1\" class=\"dataframe\">\n",
       "  <thead>\n",
       "    <tr style=\"text-align: right;\">\n",
       "      <th></th>\n",
       "      <th>userId</th>\n",
       "      <th>productId</th>\n",
       "      <th>Rating</th>\n",
       "    </tr>\n",
       "  </thead>\n",
       "  <tbody>\n",
       "    <tr>\n",
       "      <th>0</th>\n",
       "      <td>Sebastian</td>\n",
       "      <td>Lenovo Motorola RAZR Smartphone (10,9 cm (4,3 ...</td>\n",
       "      <td>9.971946</td>\n",
       "    </tr>\n",
       "    <tr>\n",
       "      <th>1</th>\n",
       "      <td>Sebastian</td>\n",
       "      <td>Wiko Rainbow Smartphone (12,7 cm (5 Zoll) Disp...</td>\n",
       "      <td>9.584584</td>\n",
       "    </tr>\n",
       "    <tr>\n",
       "      <th>2</th>\n",
       "      <td>Sebastian</td>\n",
       "      <td>HTC One Smartphone (11,9 cm (4,7 Zoll) Touchsc...</td>\n",
       "      <td>9.578469</td>\n",
       "    </tr>\n",
       "    <tr>\n",
       "      <th>3</th>\n",
       "      <td>Sebastian</td>\n",
       "      <td>LG Nexus 5 Smartphone, memoria 16GB, Android 4...</td>\n",
       "      <td>9.539701</td>\n",
       "    </tr>\n",
       "    <tr>\n",
       "      <th>4</th>\n",
       "      <td>Sebastian</td>\n",
       "      <td>Huawei Ascend Y530 Smartphone (4,5 Zoll (11,4 ...</td>\n",
       "      <td>9.444705</td>\n",
       "    </tr>\n",
       "  </tbody>\n",
       "</table>\n",
       "</div>"
      ],
      "text/plain": [
       "      userId                                          productId    Rating\n",
       "0  Sebastian  Lenovo Motorola RAZR Smartphone (10,9 cm (4,3 ...  9.971946\n",
       "1  Sebastian  Wiko Rainbow Smartphone (12,7 cm (5 Zoll) Disp...  9.584584\n",
       "2  Sebastian  HTC One Smartphone (11,9 cm (4,7 Zoll) Touchsc...  9.578469\n",
       "3  Sebastian  LG Nexus 5 Smartphone, memoria 16GB, Android 4...  9.539701\n",
       "4  Sebastian  Huawei Ascend Y530 Smartphone (4,5 Zoll (11,4 ...  9.444705"
      ]
     },
     "metadata": {},
     "output_type": "display_data"
    },
    {
     "name": "stdout",
     "output_type": "stream",
     "text": [
      "Recommending top 5 products for userid : Sarah ...**\n"
     ]
    },
    {
     "data": {
      "text/html": [
       "<div>\n",
       "<style scoped>\n",
       "    .dataframe tbody tr th:only-of-type {\n",
       "        vertical-align: middle;\n",
       "    }\n",
       "\n",
       "    .dataframe tbody tr th {\n",
       "        vertical-align: top;\n",
       "    }\n",
       "\n",
       "    .dataframe thead th {\n",
       "        text-align: right;\n",
       "    }\n",
       "</style>\n",
       "<table border=\"1\" class=\"dataframe\">\n",
       "  <thead>\n",
       "    <tr style=\"text-align: right;\">\n",
       "      <th></th>\n",
       "      <th>userId</th>\n",
       "      <th>productId</th>\n",
       "      <th>Rating</th>\n",
       "    </tr>\n",
       "  </thead>\n",
       "  <tbody>\n",
       "    <tr>\n",
       "      <th>0</th>\n",
       "      <td>Sarah</td>\n",
       "      <td>Motorola Moto E 2nd Generation 4G LTE White XT...</td>\n",
       "      <td>10.0</td>\n",
       "    </tr>\n",
       "    <tr>\n",
       "      <th>1</th>\n",
       "      <td>Sarah</td>\n",
       "      <td>Microsoft Nokia 3310 Handy</td>\n",
       "      <td>9.192737</td>\n",
       "    </tr>\n",
       "    <tr>\n",
       "      <th>2</th>\n",
       "      <td>Sarah</td>\n",
       "      <td>HTC Desire 816 Black (Virgin mobile) - 5.5 inc...</td>\n",
       "      <td>9.19011</td>\n",
       "    </tr>\n",
       "    <tr>\n",
       "      <th>3</th>\n",
       "      <td>Sarah</td>\n",
       "      <td>Samsung Galaxy J5 2016 Sim Free Mobile Phone -...</td>\n",
       "      <td>8.97479</td>\n",
       "    </tr>\n",
       "    <tr>\n",
       "      <th>4</th>\n",
       "      <td>Sarah</td>\n",
       "      <td>Nokia 3310 - SIM Free (various colours)</td>\n",
       "      <td>8.974328</td>\n",
       "    </tr>\n",
       "  </tbody>\n",
       "</table>\n",
       "</div>"
      ],
      "text/plain": [
       "  userId                                          productId    Rating\n",
       "0  Sarah  Motorola Moto E 2nd Generation 4G LTE White XT...      10.0\n",
       "1  Sarah                         Microsoft Nokia 3310 Handy  9.192737\n",
       "2  Sarah  HTC Desire 816 Black (Virgin mobile) - 5.5 inc...   9.19011\n",
       "3  Sarah  Samsung Galaxy J5 2016 Sim Free Mobile Phone -...   8.97479\n",
       "4  Sarah            Nokia 3310 - SIM Free (various colours)  8.974328"
      ]
     },
     "metadata": {},
     "output_type": "display_data"
    }
   ],
   "source": [
    "result_knn_user1 = col_fil_knn_user.recommend(user_id='Justin', n=5)\n",
    "result_knn_user1 = col_fil_knn_user.recommend(user_id='Sebastian', n=5)\n",
    "result_knn_user1 = col_fil_knn_user.recommend(user_id='Sarah', n=5)"
   ]
  },
  {
   "cell_type": "markdown",
   "id": "abeaeff0",
   "metadata": {},
   "source": [
    "#### Item Based : Cross Validate to find the best KNN model parameters"
   ]
  },
  {
   "cell_type": "code",
   "execution_count": 55,
   "id": "c58a5fc9",
   "metadata": {},
   "outputs": [],
   "source": [
    "# Limiting data size because of the extreme loading issues in the cross validation step\n",
    "data2 = data1.sample(n=10000, replace=True, random_state=612)\n",
    "\n",
    "reader = Reader(rating_scale=(1, 10))\n",
    "\n",
    "data_new1 = Dataset.load_from_df(data2[['author', 'product', 'score']], reader)\n",
    "trainset, testset = train_test_split(data_new1, test_size=.3, random_state=10)"
   ]
  },
  {
   "cell_type": "code",
   "execution_count": 56,
   "id": "c4d546c5",
   "metadata": {},
   "outputs": [
    {
     "name": "stdout",
     "output_type": "stream",
     "text": [
      "{'rmse': 2.9254182806295623}\n",
      "{'rmse': {'k': 15, 'sim_options': {'name': 'cosine', 'user_based': False}}}\n",
      "{'rmse': <surprise.prediction_algorithms.knns.KNNWithMeans object at 0x00000280C50BD280>}\n"
     ]
    }
   ],
   "source": [
    "sim_options = {\n",
    "    \"name\": [\"msd\", \"cosine\",\"pearson\"],\n",
    "    \"user_based\": [False]\n",
    "}\n",
    "params = { 'k': range(10,20,1), 'sim_options': sim_options}\n",
    "clf = find_best_model(KNNWithMeans, params, data_new1)"
   ]
  },
  {
   "cell_type": "code",
   "execution_count": 57,
   "id": "cbe7c173",
   "metadata": {},
   "outputs": [],
   "source": [
    "knnwithmeans = clf.best_estimator['rmse']\n",
    "col_fil_knn_item = collab_filtering_based_recommender_model(knnwithmeans, trainset, testset, data_new1)"
   ]
  },
  {
   "cell_type": "code",
   "execution_count": 58,
   "id": "ac3778db",
   "metadata": {},
   "outputs": [
    {
     "name": "stdout",
     "output_type": "stream",
     "text": [
      "Computing the cosine similarity matrix...\n",
      "Done computing similarity matrix.\n",
      "RMSE: 2.9364\n",
      "RMSE for the predicted result is 2.936\n"
     ]
    }
   ],
   "source": [
    "knnwithmeans_rmse = col_fil_knn_item.fit_and_predict()"
   ]
  },
  {
   "cell_type": "code",
   "execution_count": 59,
   "id": "dced25aa",
   "metadata": {},
   "outputs": [
    {
     "name": "stdout",
     "output_type": "stream",
     "text": [
      "Mean CV RMSE is 2.935\n"
     ]
    }
   ],
   "source": [
    "knnwithmeans_cv_rmse = col_fil_knn_item.cross_validate()"
   ]
  },
  {
   "cell_type": "code",
   "execution_count": 62,
   "id": "c8b38764",
   "metadata": {},
   "outputs": [
    {
     "name": "stdout",
     "output_type": "stream",
     "text": [
      "Recommending top 5 products for userid : Henry ...**\n"
     ]
    },
    {
     "data": {
      "text/html": [
       "<div>\n",
       "<style scoped>\n",
       "    .dataframe tbody tr th:only-of-type {\n",
       "        vertical-align: middle;\n",
       "    }\n",
       "\n",
       "    .dataframe tbody tr th {\n",
       "        vertical-align: top;\n",
       "    }\n",
       "\n",
       "    .dataframe thead th {\n",
       "        text-align: right;\n",
       "    }\n",
       "</style>\n",
       "<table border=\"1\" class=\"dataframe\">\n",
       "  <thead>\n",
       "    <tr style=\"text-align: right;\">\n",
       "      <th></th>\n",
       "      <th>userId</th>\n",
       "      <th>productId</th>\n",
       "      <th>Rating</th>\n",
       "    </tr>\n",
       "  </thead>\n",
       "  <tbody>\n",
       "    <tr>\n",
       "      <th>0</th>\n",
       "      <td>Henry</td>\n",
       "      <td>Asus ZenFone 3 Laser 5.5-inch Glacier Silver [...</td>\n",
       "      <td>10.000000</td>\n",
       "    </tr>\n",
       "    <tr>\n",
       "      <th>1</th>\n",
       "      <td>Henry</td>\n",
       "      <td>LG G4 H815 - Smartphone de 5.5\" (4G, Qualcomm ...</td>\n",
       "      <td>10.000000</td>\n",
       "    </tr>\n",
       "    <tr>\n",
       "      <th>2</th>\n",
       "      <td>Henry</td>\n",
       "      <td>HTC One M7 Unlocked GSM 4G LTE Quad-Core Smart...</td>\n",
       "      <td>7.783286</td>\n",
       "    </tr>\n",
       "    <tr>\n",
       "      <th>3</th>\n",
       "      <td>Henry</td>\n",
       "      <td>Samsung GT-E1270 Téléphone portable 32 Mo Rouge</td>\n",
       "      <td>7.783286</td>\n",
       "    </tr>\n",
       "  </tbody>\n",
       "</table>\n",
       "</div>"
      ],
      "text/plain": [
       "  userId                                          productId     Rating\n",
       "0  Henry  Asus ZenFone 3 Laser 5.5-inch Glacier Silver [...  10.000000\n",
       "1  Henry  LG G4 H815 - Smartphone de 5.5\" (4G, Qualcomm ...  10.000000\n",
       "2  Henry  HTC One M7 Unlocked GSM 4G LTE Quad-Core Smart...   7.783286\n",
       "3  Henry    Samsung GT-E1270 Téléphone portable 32 Mo Rouge   7.783286"
      ]
     },
     "metadata": {},
     "output_type": "display_data"
    },
    {
     "name": "stdout",
     "output_type": "stream",
     "text": [
      "Recommending top 5 products for userid : Dani ...**\n"
     ]
    },
    {
     "data": {
      "text/html": [
       "<div>\n",
       "<style scoped>\n",
       "    .dataframe tbody tr th:only-of-type {\n",
       "        vertical-align: middle;\n",
       "    }\n",
       "\n",
       "    .dataframe tbody tr th {\n",
       "        vertical-align: top;\n",
       "    }\n",
       "\n",
       "    .dataframe thead th {\n",
       "        text-align: right;\n",
       "    }\n",
       "</style>\n",
       "<table border=\"1\" class=\"dataframe\">\n",
       "  <thead>\n",
       "    <tr style=\"text-align: right;\">\n",
       "      <th></th>\n",
       "      <th>userId</th>\n",
       "      <th>productId</th>\n",
       "      <th>Rating</th>\n",
       "    </tr>\n",
       "  </thead>\n",
       "  <tbody>\n",
       "    <tr>\n",
       "      <th>0</th>\n",
       "      <td>Dani</td>\n",
       "      <td>LG G4 H815 - Smartphone de 5.5\" (4G, Qualcomm ...</td>\n",
       "      <td>10.000000</td>\n",
       "    </tr>\n",
       "    <tr>\n",
       "      <th>1</th>\n",
       "      <td>Dani</td>\n",
       "      <td>LG D802 G2 Smartphone, 16 GB, Nero [Italia]</td>\n",
       "      <td>8.000000</td>\n",
       "    </tr>\n",
       "    <tr>\n",
       "      <th>2</th>\n",
       "      <td>Dani</td>\n",
       "      <td>Lenovo Moto G4 Play - Smartphone de 5 (4G, RAM...</td>\n",
       "      <td>6.547619</td>\n",
       "    </tr>\n",
       "    <tr>\n",
       "      <th>3</th>\n",
       "      <td>Dani</td>\n",
       "      <td>Lenovo Moto G4 Play - Smartphone de 5 (4G, RAM...</td>\n",
       "      <td>6.547619</td>\n",
       "    </tr>\n",
       "  </tbody>\n",
       "</table>\n",
       "</div>"
      ],
      "text/plain": [
       "  userId                                          productId     Rating\n",
       "0   Dani  LG G4 H815 - Smartphone de 5.5\" (4G, Qualcomm ...  10.000000\n",
       "1   Dani        LG D802 G2 Smartphone, 16 GB, Nero [Italia]   8.000000\n",
       "2   Dani  Lenovo Moto G4 Play - Smartphone de 5 (4G, RAM...   6.547619\n",
       "3   Dani  Lenovo Moto G4 Play - Smartphone de 5 (4G, RAM...   6.547619"
      ]
     },
     "metadata": {},
     "output_type": "display_data"
    },
    {
     "name": "stdout",
     "output_type": "stream",
     "text": [
      "Recommending top 5 products for userid : Sarah ...**\n"
     ]
    },
    {
     "data": {
      "text/html": [
       "<div>\n",
       "<style scoped>\n",
       "    .dataframe tbody tr th:only-of-type {\n",
       "        vertical-align: middle;\n",
       "    }\n",
       "\n",
       "    .dataframe tbody tr th {\n",
       "        vertical-align: top;\n",
       "    }\n",
       "\n",
       "    .dataframe thead th {\n",
       "        text-align: right;\n",
       "    }\n",
       "</style>\n",
       "<table border=\"1\" class=\"dataframe\">\n",
       "  <thead>\n",
       "    <tr style=\"text-align: right;\">\n",
       "      <th></th>\n",
       "      <th>userId</th>\n",
       "      <th>productId</th>\n",
       "      <th>Rating</th>\n",
       "    </tr>\n",
       "  </thead>\n",
       "  <tbody>\n",
       "    <tr>\n",
       "      <th>0</th>\n",
       "      <td>Sarah</td>\n",
       "      <td>Sony Xperia X zwart / 32 GB</td>\n",
       "      <td>9.000000</td>\n",
       "    </tr>\n",
       "    <tr>\n",
       "      <th>1</th>\n",
       "      <td>Sarah</td>\n",
       "      <td>LG Electronics GM360 Viewty Plus Smartphone (7...</td>\n",
       "      <td>7.783286</td>\n",
       "    </tr>\n",
       "    <tr>\n",
       "      <th>2</th>\n",
       "      <td>Sarah</td>\n",
       "      <td>BLU Studio 5.0S II Quad Band Unlocked (White)</td>\n",
       "      <td>7.783286</td>\n",
       "    </tr>\n",
       "    <tr>\n",
       "      <th>3</th>\n",
       "      <td>Sarah</td>\n",
       "      <td>Apple iPhone 7, 32Gb - Rose Gold</td>\n",
       "      <td>7.783286</td>\n",
       "    </tr>\n",
       "    <tr>\n",
       "      <th>4</th>\n",
       "      <td>Sarah</td>\n",
       "      <td>Sim Free iPhone 7 32GB Mobile Phone - Black</td>\n",
       "      <td>7.783286</td>\n",
       "    </tr>\n",
       "  </tbody>\n",
       "</table>\n",
       "</div>"
      ],
      "text/plain": [
       "  userId                                          productId    Rating\n",
       "0  Sarah                        Sony Xperia X zwart / 32 GB  9.000000\n",
       "1  Sarah  LG Electronics GM360 Viewty Plus Smartphone (7...  7.783286\n",
       "2  Sarah      BLU Studio 5.0S II Quad Band Unlocked (White)  7.783286\n",
       "3  Sarah                   Apple iPhone 7, 32Gb - Rose Gold  7.783286\n",
       "4  Sarah        Sim Free iPhone 7 32GB Mobile Phone - Black  7.783286"
      ]
     },
     "metadata": {},
     "output_type": "display_data"
    }
   ],
   "source": [
    "result_knn_user1 = col_fil_knn_item.recommend(user_id='Henry', n=5)\n",
    "result_knn_user1 = col_fil_knn_item.recommend(user_id='Dani', n=5)\n",
    "result_knn_user1 = col_fil_knn_item.recommend(user_id='Sarah', n=5)"
   ]
  },
  {
   "cell_type": "markdown",
   "id": "e92e8239",
   "metadata": {},
   "source": [
    "#### Cross Validate SVD to find the best model parameters"
   ]
  },
  {
   "cell_type": "code",
   "execution_count": 63,
   "id": "ee0ff929",
   "metadata": {},
   "outputs": [
    {
     "name": "stdout",
     "output_type": "stream",
     "text": [
      "{'rmse': 2.591862504164225}\n",
      "{'rmse': {'n_epochs': 15, 'lr_all': 0.005, 'reg_all': 0.4}}\n",
      "{'rmse': <surprise.prediction_algorithms.matrix_factorization.SVD object at 0x00000280C5143190>}\n"
     ]
    }
   ],
   "source": [
    "params= {\n",
    "    \"n_epochs\": [5, 10, 15, 20],\n",
    "    \"lr_all\": [0.002, 0.005],\n",
    "    \"reg_all\": [0.4, 0.6]\n",
    "}\n",
    "clf = find_best_model(SVD, params, data_new)"
   ]
  },
  {
   "cell_type": "code",
   "execution_count": 64,
   "id": "9e57975c",
   "metadata": {},
   "outputs": [],
   "source": [
    "svd = clf.best_estimator['rmse']\n",
    "col_fil_svd = collab_filtering_based_recommender_model(svd, trainset, testset, data_new)"
   ]
  },
  {
   "cell_type": "code",
   "execution_count": 65,
   "id": "ee888fe1",
   "metadata": {},
   "outputs": [
    {
     "name": "stdout",
     "output_type": "stream",
     "text": [
      "RMSE: 2.6675\n",
      "RMSE for the predicted result is 2.667\n"
     ]
    }
   ],
   "source": [
    "svd_rmse = col_fil_svd.fit_and_predict()"
   ]
  },
  {
   "cell_type": "code",
   "execution_count": 66,
   "id": "719f604f",
   "metadata": {},
   "outputs": [
    {
     "name": "stdout",
     "output_type": "stream",
     "text": [
      "Mean CV RMSE is 2.595\n"
     ]
    }
   ],
   "source": [
    "svd_cv_rmse = col_fil_svd.cross_validate()"
   ]
  },
  {
   "cell_type": "code",
   "execution_count": 67,
   "id": "958f282e",
   "metadata": {},
   "outputs": [
    {
     "name": "stdout",
     "output_type": "stream",
     "text": [
      "Recommending top 5 products for userid : Henry ...**\n"
     ]
    },
    {
     "data": {
      "text/html": [
       "<div>\n",
       "<style scoped>\n",
       "    .dataframe tbody tr th:only-of-type {\n",
       "        vertical-align: middle;\n",
       "    }\n",
       "\n",
       "    .dataframe tbody tr th {\n",
       "        vertical-align: top;\n",
       "    }\n",
       "\n",
       "    .dataframe thead th {\n",
       "        text-align: right;\n",
       "    }\n",
       "</style>\n",
       "<table border=\"1\" class=\"dataframe\">\n",
       "  <thead>\n",
       "    <tr style=\"text-align: right;\">\n",
       "      <th></th>\n",
       "      <th>userId</th>\n",
       "      <th>productId</th>\n",
       "      <th>Rating</th>\n",
       "    </tr>\n",
       "  </thead>\n",
       "  <tbody>\n",
       "    <tr>\n",
       "      <th>0</th>\n",
       "      <td>Henry</td>\n",
       "      <td>Asus ZenFone 3 Laser 5.5-inch Glacier Silver [...</td>\n",
       "      <td>7.751462</td>\n",
       "    </tr>\n",
       "    <tr>\n",
       "      <th>1</th>\n",
       "      <td>Henry</td>\n",
       "      <td>LG G4 H815 - Smartphone de 5.5\" (4G, Qualcomm ...</td>\n",
       "      <td>7.723790</td>\n",
       "    </tr>\n",
       "    <tr>\n",
       "      <th>2</th>\n",
       "      <td>Henry</td>\n",
       "      <td>HTC One M7 Unlocked GSM 4G LTE Quad-Core Smart...</td>\n",
       "      <td>7.572664</td>\n",
       "    </tr>\n",
       "    <tr>\n",
       "      <th>3</th>\n",
       "      <td>Henry</td>\n",
       "      <td>Samsung GT-E1270 Téléphone portable 32 Mo Rouge</td>\n",
       "      <td>7.572664</td>\n",
       "    </tr>\n",
       "  </tbody>\n",
       "</table>\n",
       "</div>"
      ],
      "text/plain": [
       "  userId                                          productId    Rating\n",
       "0  Henry  Asus ZenFone 3 Laser 5.5-inch Glacier Silver [...  7.751462\n",
       "1  Henry  LG G4 H815 - Smartphone de 5.5\" (4G, Qualcomm ...  7.723790\n",
       "2  Henry  HTC One M7 Unlocked GSM 4G LTE Quad-Core Smart...  7.572664\n",
       "3  Henry    Samsung GT-E1270 Téléphone portable 32 Mo Rouge  7.572664"
      ]
     },
     "metadata": {},
     "output_type": "display_data"
    },
    {
     "name": "stdout",
     "output_type": "stream",
     "text": [
      "Recommending top 5 products for userid : Dani ...**\n"
     ]
    },
    {
     "data": {
      "text/html": [
       "<div>\n",
       "<style scoped>\n",
       "    .dataframe tbody tr th:only-of-type {\n",
       "        vertical-align: middle;\n",
       "    }\n",
       "\n",
       "    .dataframe tbody tr th {\n",
       "        vertical-align: top;\n",
       "    }\n",
       "\n",
       "    .dataframe thead th {\n",
       "        text-align: right;\n",
       "    }\n",
       "</style>\n",
       "<table border=\"1\" class=\"dataframe\">\n",
       "  <thead>\n",
       "    <tr style=\"text-align: right;\">\n",
       "      <th></th>\n",
       "      <th>userId</th>\n",
       "      <th>productId</th>\n",
       "      <th>Rating</th>\n",
       "    </tr>\n",
       "  </thead>\n",
       "  <tbody>\n",
       "    <tr>\n",
       "      <th>0</th>\n",
       "      <td>Dani</td>\n",
       "      <td>Lenovo Moto G4 Play - Smartphone de 5 (4G, RAM...</td>\n",
       "      <td>8.676137</td>\n",
       "    </tr>\n",
       "    <tr>\n",
       "      <th>1</th>\n",
       "      <td>Dani</td>\n",
       "      <td>Lenovo Moto G4 Play - Smartphone de 5 (4G, RAM...</td>\n",
       "      <td>8.676137</td>\n",
       "    </tr>\n",
       "    <tr>\n",
       "      <th>2</th>\n",
       "      <td>Dani</td>\n",
       "      <td>LG G4 H815 - Smartphone de 5.5\" (4G, Qualcomm ...</td>\n",
       "      <td>8.096557</td>\n",
       "    </tr>\n",
       "    <tr>\n",
       "      <th>3</th>\n",
       "      <td>Dani</td>\n",
       "      <td>LG D802 G2 Smartphone, 16 GB, Nero [Italia]</td>\n",
       "      <td>7.937554</td>\n",
       "    </tr>\n",
       "  </tbody>\n",
       "</table>\n",
       "</div>"
      ],
      "text/plain": [
       "  userId                                          productId    Rating\n",
       "0   Dani  Lenovo Moto G4 Play - Smartphone de 5 (4G, RAM...  8.676137\n",
       "1   Dani  Lenovo Moto G4 Play - Smartphone de 5 (4G, RAM...  8.676137\n",
       "2   Dani  LG G4 H815 - Smartphone de 5.5\" (4G, Qualcomm ...  8.096557\n",
       "3   Dani        LG D802 G2 Smartphone, 16 GB, Nero [Italia]  7.937554"
      ]
     },
     "metadata": {},
     "output_type": "display_data"
    },
    {
     "name": "stdout",
     "output_type": "stream",
     "text": [
      "Recommending top 5 products for userid : Sarah ...**\n"
     ]
    },
    {
     "data": {
      "text/html": [
       "<div>\n",
       "<style scoped>\n",
       "    .dataframe tbody tr th:only-of-type {\n",
       "        vertical-align: middle;\n",
       "    }\n",
       "\n",
       "    .dataframe tbody tr th {\n",
       "        vertical-align: top;\n",
       "    }\n",
       "\n",
       "    .dataframe thead th {\n",
       "        text-align: right;\n",
       "    }\n",
       "</style>\n",
       "<table border=\"1\" class=\"dataframe\">\n",
       "  <thead>\n",
       "    <tr style=\"text-align: right;\">\n",
       "      <th></th>\n",
       "      <th>userId</th>\n",
       "      <th>productId</th>\n",
       "      <th>Rating</th>\n",
       "    </tr>\n",
       "  </thead>\n",
       "  <tbody>\n",
       "    <tr>\n",
       "      <th>0</th>\n",
       "      <td>Sarah</td>\n",
       "      <td>Sony Xperia X zwart / 32 GB</td>\n",
       "      <td>6.763089</td>\n",
       "    </tr>\n",
       "    <tr>\n",
       "      <th>1</th>\n",
       "      <td>Sarah</td>\n",
       "      <td>LG Electronics GM360 Viewty Plus Smartphone (7...</td>\n",
       "      <td>6.732305</td>\n",
       "    </tr>\n",
       "    <tr>\n",
       "      <th>2</th>\n",
       "      <td>Sarah</td>\n",
       "      <td>BLU Studio 5.0S II Quad Band Unlocked (White)</td>\n",
       "      <td>6.732305</td>\n",
       "    </tr>\n",
       "    <tr>\n",
       "      <th>3</th>\n",
       "      <td>Sarah</td>\n",
       "      <td>Apple iPhone 7, 32Gb - Rose Gold</td>\n",
       "      <td>6.732305</td>\n",
       "    </tr>\n",
       "    <tr>\n",
       "      <th>4</th>\n",
       "      <td>Sarah</td>\n",
       "      <td>Sim Free iPhone 7 32GB Mobile Phone - Black</td>\n",
       "      <td>6.732305</td>\n",
       "    </tr>\n",
       "  </tbody>\n",
       "</table>\n",
       "</div>"
      ],
      "text/plain": [
       "  userId                                          productId    Rating\n",
       "0  Sarah                        Sony Xperia X zwart / 32 GB  6.763089\n",
       "1  Sarah  LG Electronics GM360 Viewty Plus Smartphone (7...  6.732305\n",
       "2  Sarah      BLU Studio 5.0S II Quad Band Unlocked (White)  6.732305\n",
       "3  Sarah                   Apple iPhone 7, 32Gb - Rose Gold  6.732305\n",
       "4  Sarah        Sim Free iPhone 7 32GB Mobile Phone - Black  6.732305"
      ]
     },
     "metadata": {},
     "output_type": "display_data"
    }
   ],
   "source": [
    "result_svd_user1 = col_fil_svd.recommend(user_id='Henry', n=5)\n",
    "result_svd_user1 = col_fil_svd.recommend(user_id='Dani', n=5)\n",
    "result_svd_user1 = col_fil_svd.recommend(user_id='Sarah', n=5)"
   ]
  },
  {
   "cell_type": "markdown",
   "id": "89c2d6b4",
   "metadata": {},
   "source": [
    "### Report your findings and inferences"
   ]
  },
  {
   "cell_type": "markdown",
   "id": "00aaacbc",
   "metadata": {},
   "source": [
    "* For Sarah, item based and SVD gave almost the same recommendations\n",
    "* Item - item collaborative filtering offers the worst RMSE ( constraint : data size is reduced because of computation issues)\n",
    "* Each user has different product being recommended unlike popularity based filtering\n",
    "* An RMSE score of 2.59 is the best available from the model - User User Collaborative filtering"
   ]
  },
  {
   "cell_type": "markdown",
   "id": "88fb2a39",
   "metadata": {},
   "source": [
    "### In what business scenario you should use popularity based Recommendation Systems ?"
   ]
  },
  {
   "cell_type": "markdown",
   "id": "e78fe33e",
   "metadata": {},
   "source": [
    "* Apps like Spotify, Amazon music etc to recommend the trending songs of the seasons\n",
    "* Websites of small businesses that does not have a user profile hence recommends the fastest moving products\n",
    "* YouTube trending videos or Google popular/trending news section\n",
    "* Swiggy/Zomato suggesting the most popular restaurants and dishes"
   ]
  },
  {
   "cell_type": "markdown",
   "id": "fd68fd8b",
   "metadata": {},
   "source": [
    "### In what business scenario you should use CF based Recommendation Systems ?"
   ]
  },
  {
   "cell_type": "markdown",
   "id": "00e900b3",
   "metadata": {},
   "source": [
    "* Amazon's recommender system - Also Myntra/Flipkart where items are suggested based on user preference or items often bought together\n",
    "* Facebook suggesting common friends\n",
    "* Netflix suggesting movies/shows based on the last watched TV shows"
   ]
  },
  {
   "cell_type": "markdown",
   "id": "cfacf038",
   "metadata": {},
   "source": [
    "### What other possible methods can you think of which can further improve the recommendation for different users ?"
   ]
  },
  {
   "cell_type": "markdown",
   "id": "700d199b",
   "metadata": {},
   "source": [
    "* Cold start problems to be addressed with a fall back scenario that recommends popular products for first time users\n",
    "* System detects if it has enough data to personalize recommendations to a certain customer\n",
    "* This leads to hybrid recommendation systems\n",
    "* Content based collaborative filtering is another method for recommening based on item specifications"
   ]
  },
  {
   "cell_type": "code",
   "execution_count": null,
   "id": "ec9d6035",
   "metadata": {},
   "outputs": [],
   "source": []
  }
 ],
 "metadata": {
  "kernelspec": {
   "display_name": "Python 3",
   "language": "python",
   "name": "python3"
  },
  "language_info": {
   "codemirror_mode": {
    "name": "ipython",
    "version": 3
   },
   "file_extension": ".py",
   "mimetype": "text/x-python",
   "name": "python",
   "nbconvert_exporter": "python",
   "pygments_lexer": "ipython3",
   "version": "3.8.8"
  }
 },
 "nbformat": 4,
 "nbformat_minor": 5
}
